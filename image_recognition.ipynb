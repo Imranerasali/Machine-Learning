{
 "cells": [
  {
   "cell_type": "code",
   "execution_count": 1,
   "metadata": {},
   "outputs": [],
   "source": [
    "#1:Importing plot lib and data set from Sklearn\n",
    "import matplotlib.pyplot as plt\n",
    "%matplotlib inline\n",
    "from sklearn.datasets import load_digits\n",
    "digits = load_digits()"
   ]
  },
  {
   "cell_type": "code",
   "execution_count": 2,
   "metadata": {},
   "outputs": [
    {
     "data": {
      "text/plain": [
       "<Figure size 432x288 with 0 Axes>"
      ]
     },
     "metadata": {},
     "output_type": "display_data"
    },
    {
     "data": {
      "image/png": "[encoded data removed]",
      "text/plain": [
       "<Figure size 288x288 with 1 Axes>"
      ]
     },
     "metadata": {
      "needs_background": "light"
     },
     "output_type": "display_data"
    }
   ],
   "source": [
    "#2: Analysing a Sample\n",
    "import pylab as pl\n",
    "pl.gray()\n",
    "pl.matshow(digits.images[0])\n",
    "pl.show()"
   ]
  },
  {
   "cell_type": "code",
   "execution_count": 20,
   "metadata": {},
   "outputs": [
    {
     "data": {
      "text/plain": [
       "(1797,)"
      ]
     },
     "execution_count": 20,
     "metadata": {},
     "output_type": "execute_result"
    }
   ],
   "source": [
    "#How python see it(matrix)\n",
    "digits.images[0]"
   ]
  },
  {
   "cell_type": "code",
   "execution_count": 4,
   "metadata": {},
   "outputs": [
    {
     "data": {
      "image/png": "[encoded data removed]",
      "text/plain": [
       "<Figure size 360x360 with 10 Axes>"
      ]
     },
     "metadata": {
      "needs_background": "light"
     },
     "output_type": "display_data"
    }
   ],
   "source": [
    "#3: Visualise first 10 images\n",
    "images_labels =list(zip(digits.images,digits.target))\n",
    "plt.figure(figsize=(5,5))\n",
    "for index ,(image,label) in enumerate(images_labels[:10]):\n",
    "    plt.subplot(2,5,index + 1)\n",
    "    plt.axis('off')\n",
    "    plt.imshow(image, cmap=plt.cm.gray_r, interpolation='nearest')\n",
    "    plt.title('%i'% label)"
   ]
  },
  {
   "cell_type": "code",
   "execution_count": 26,
   "metadata": {},
   "outputs": [
    {
     "data": {
      "text/plain": [
       "(1797, 8, 8)"
      ]
     },
     "execution_count": 26,
     "metadata": {},
     "output_type": "execute_result"
    }
   ],
   "source": [
    "digits.images.shape"
   ]
  },
  {
   "cell_type": "code",
   "execution_count": 28,
   "metadata": {},
   "outputs": [
    {
     "data": {
      "text/plain": [
       "array([[ 0.,  0.,  5., ...,  0.,  0.,  0.],\n",
       "       [ 0.,  0.,  0., ..., 10.,  0.,  0.],\n",
       "       [ 0.,  0.,  0., ..., 16.,  9.,  0.],\n",
       "       ...,\n",
       "       [ 0.,  0.,  1., ...,  6.,  0.,  0.],\n",
       "       [ 0.,  0.,  2., ..., 12.,  0.,  0.],\n",
       "       [ 0.,  0., 10., ..., 12.,  1.,  0.]])"
      ]
     },
     "execution_count": 28,
     "metadata": {},
     "output_type": "execute_result"
    }
   ],
   "source": [
    "#3: Defening varaibles\n",
    "n_sample =len(digits.images)\n",
    "X=digits.images.reshape((n_sample,-1))\n",
    "y=digits.target"
   ]
  },
  {
   "cell_type": "code",
   "execution_count": 25,
   "metadata": {},
   "outputs": [
    {
     "data": {
      "text/plain": [
       "(1437, 64)"
      ]
     },
     "execution_count": 25,
     "metadata": {},
     "output_type": "execute_result"
    }
   ],
   "source": [
    "#5: Spliting data into train and test using sklearn\n",
    "from sklearn.model_selection import train_test_split\n",
    "train_x, test_x, train_y, test_y = train_test_split(X,y, \n",
    "                                                    test_size=0.2, \n",
    "                                                    random_state=123, \n",
    "                                                    stratify=digits.target)"
   ]
  },
  {
   "cell_type": "code",
   "execution_count": 7,
   "metadata": {},
   "outputs": [
    {
     "name": "stdout",
     "output_type": "stream",
     "text": [
      "Predicted correctly:357/360\n",
      "0.041666666666666664\n",
      "0.9664859944557077\n",
      "99.17\n",
      "Error 0.0083\n"
     ]
    }
   ],
   "source": [
    "# KNN or k-Nearest Neighbors\n",
    "from sklearn.neighbors import KNeighborsClassifier\n",
    "from sklearn.metrics import accuracy_score,mean_absolute_error,r2_score\n",
    "knn = KNeighborsClassifier()\n",
    "knn.fit(train_x, train_y)\n",
    "y_pred1 = knn.predict(test_x)\n",
    "acc1 = accuracy_score(test_y,y_pred1)\n",
    "correct=0 \n",
    "for i in range(len(y_pred1)):\n",
    "    if(test_y[i]==y_pred1[i]):\n",
    "        correct +=1\n",
    "print('Predicted correctly:{0}/{1}'.format(correct,len(y_pred1)))\n",
    "print(mean_absolute_error(test_y, y_pred1))\n",
    "print(r2_score(test_y, y_pred1))\n",
    "acc_knn = round(accuracy_score(y_pred1, test_y) * 100, 2)\n",
    "print(acc_knn)\n",
    "print('Error {0:.4f}'.format(1-acc1))"
   ]
  },
  {
   "cell_type": "code",
   "execution_count": 8,
   "metadata": {},
   "outputs": [
    {
     "name": "stdout",
     "output_type": "stream",
     "text": [
      "Predicted correctly:308/360\n",
      "Error 0.1444\n",
      "0.6027777777777777\n",
      "0.5961393069258517\n",
      "85.56\n"
     ]
    }
   ],
   "source": [
    "# Gaussian Naive Bayes\n",
    "from sklearn.naive_bayes import GaussianNB\n",
    "from sklearn.metrics import accuracy_score,mean_absolute_error,r2_score\n",
    "gaussian = GaussianNB()\n",
    "gaussian.fit(train_x, train_y)\n",
    "y_pred2 = gaussian.predict(test_x)\n",
    "acc2 = accuracy_score(test_y,y_pred2)\n",
    "correct=0 \n",
    "for i in range(len(y_pred2)):\n",
    "    if(test_y[i]==y_pred2[i]):\n",
    "        correct +=1\n",
    "print('Predicted correctly:{0}/{1}'.format(correct,len(y_pred2)))\n",
    "print('Error {0:.4f}'.format(1-acc2))\n",
    "print(mean_absolute_error(test_y, y_pred2))\n",
    "print(r2_score(test_y, y_pred2))\n",
    "acc_gaussian = round(accuracy_score(y_pred2, test_y) * 100, 2)\n",
    "print(acc_gaussian)"
   ]
  },
  {
   "cell_type": "code",
   "execution_count": 9,
   "metadata": {},
   "outputs": [
    {
     "name": "stdout",
     "output_type": "stream",
     "text": [
      "Predicted correctly:349/360\n",
      "Error 0.0306\n",
      "0.11666666666666667\n",
      "0.9234932802726257\n",
      "96.94\n"
     ]
    }
   ],
   "source": [
    "# Linear SVC\n",
    "from sklearn.svm import LinearSVC\n",
    "from sklearn.metrics import accuracy_score,mean_absolute_error,r2_score\n",
    "linear_svc = LinearSVC()\n",
    "linear_svc.fit(train_x, train_y)\n",
    "y_pred3 = linear_svc.predict(test_x)\n",
    "acc3 = accuracy_score(test_y,y_pred3)\n",
    "correct=0 \n",
    "for i in range(len(y_pred3)):\n",
    "    if(test_y[i]==y_pred3[i]):\n",
    "        correct +=1\n",
    "print('Predicted correctly:{0}/{1}'.format(correct,len(y_pred3)))\n",
    "print('Error {0:.4f}'.format(1-acc3))\n",
    "print(mean_absolute_error(test_y, y_pred3))\n",
    "print(r2_score(test_y, y_pred3))\n",
    "acc_linear_svc = round(accuracy_score(y_pred3, test_y) * 100, 2)\n",
    "print(acc_linear_svc)"
   ]
  },
  {
   "cell_type": "code",
   "execution_count": 10,
   "metadata": {},
   "outputs": [
    {
     "name": "stdout",
     "output_type": "stream",
     "text": [
      "Predicted correctly:228/360\n",
      "Error 0.3667\n",
      "1.1027777777777779\n",
      "0.5311424476884363\n",
      "63.33\n"
     ]
    }
   ],
   "source": [
    "# Support Vector Machines\n",
    "from sklearn.svm import SVC\n",
    "from sklearn.metrics import accuracy_score,mean_absolute_error,r2_score\n",
    "svm = SVC()\n",
    "svm.fit(train_x, train_y)\n",
    "y_pred4 = svm.predict(test_x)\n",
    "acc4 = accuracy_score(test_y,y_pred4)\n",
    "correct=0 \n",
    "for i in range(len(y_pred4)):\n",
    "    if(test_y[i]==y_pred4[i]):\n",
    "        correct +=1\n",
    "print('Predicted correctly:{0}/{1}'.format(correct,len(y_pred4)))\n",
    "print('Error {0:.4f}'.format(1-acc4))\n",
    "print(mean_absolute_error(test_y, y_pred4))\n",
    "print(r2_score(test_y, y_pred4))\n",
    "acc_svm = round(accuracy_score(y_pred4, test_y) * 100, 2)\n",
    "print(acc_svm)"
   ]
  },
  {
   "cell_type": "code",
   "execution_count": 11,
   "metadata": {},
   "outputs": [
    {
     "name": "stdout",
     "output_type": "stream",
     "text": [
      "Predicted correctly:351/360\n",
      "Error 0.0250\n",
      "0.09722222222222222\n",
      "0.9360187166881693\n",
      "97.5\n"
     ]
    }
   ],
   "source": [
    "# Logistic Regression\n",
    "from sklearn.linear_model import LogisticRegression\n",
    "from sklearn.metrics import accuracy_score,mean_absolute_error,r2_score\n",
    "logreg = LogisticRegression()\n",
    "logreg.fit(train_x, train_y)\n",
    "y_pred5 = logreg.predict(test_x)\n",
    "acc5 = accuracy_score(test_y,y_pred5)\n",
    "correct=0 \n",
    "for i in range(len(y_pred5)):\n",
    "    if(test_y[i]==y_pred5[i]):\n",
    "        correct +=1\n",
    "print('Predicted correctly:{0}/{1}'.format(correct,len(y_pred5)))\n",
    "print('Error {0:.4f}'.format(1-acc5))\n",
    "print(mean_absolute_error(test_y, y_pred5))\n",
    "print(r2_score(test_y, y_pred5))\n",
    "acc_logreg = round(accuracy_score(y_pred5, test_y) * 100, 2)\n",
    "print(acc_logreg)"
   ]
  },
  {
   "cell_type": "code",
   "execution_count": 12,
   "metadata": {},
   "outputs": [
    {
     "name": "stdout",
     "output_type": "stream",
     "text": [
      "Predicted correctly:318/360\n",
      "Error 0.1167\n",
      "0.42777777777777776\n",
      "0.737304360582113\n",
      "88.33\n"
     ]
    }
   ],
   "source": [
    "#Decision Tree\n",
    "from sklearn.tree import DecisionTreeClassifier\n",
    "from sklearn.metrics import accuracy_score,mean_absolute_error,r2_score\n",
    "decisiontree = DecisionTreeClassifier()\n",
    "decisiontree.fit(train_x, train_y)\n",
    "y_pred6 = decisiontree.predict(test_x)\n",
    "acc6 = accuracy_score(test_y,y_pred6)\n",
    "correct=0 \n",
    "for i in range(len(y_pred6)):\n",
    "    if(test_y[i]==y_pred6[i]):\n",
    "        correct +=1\n",
    "print('Predicted correctly:{0}/{1}'.format(correct,len(y_pred6)))\n",
    "print('Error {0:.4f}'.format(1-acc6))\n",
    "print(mean_absolute_error(test_y, y_pred6))\n",
    "print(r2_score(test_y, y_pred6))\n",
    "acc_decisiontree = round(accuracy_score(y_pred6, test_y) * 100, 2)\n",
    "print(acc_decisiontree)"
   ]
  },
  {
   "cell_type": "code",
   "execution_count": 13,
   "metadata": {},
   "outputs": [
    {
     "name": "stdout",
     "output_type": "stream",
     "text": [
      "Predicted correctly:337/360\n",
      "Error 0.0639\n",
      "0.26944444444444443\n",
      "0.818211909320354\n",
      "93.61\n"
     ]
    },
    {
     "name": "stderr",
     "output_type": "stream",
     "text": [
      "C:\\Users\\Admin\\Anaconda3\\lib\\site-packages\\sklearn\\linear_model\\stochastic_gradient.py:128: FutureWarning: max_iter and tol parameters have been added in <class 'sklearn.linear_model.stochastic_gradient.SGDClassifier'> in 0.19. If both are left unset, they default to max_iter=5 and tol=None. If tol is not None, max_iter defaults to max_iter=1000. From 0.21, default max_iter will be 1000, and default tol will be 1e-3.\n",
      "  \"and default tol will be 1e-3.\" % type(self), FutureWarning)\n"
     ]
    }
   ],
   "source": [
    "# Stochastic Gradient Descent\n",
    "import warnings\n",
    "from sklearn.linear_model import SGDClassifier\n",
    "from sklearn.metrics import accuracy_score,mean_absolute_error,r2_score\n",
    "sgd = SGDClassifier()\n",
    "sgd.fit(train_x, train_y)\n",
    "y_pred7 = sgd.predict(test_x)\n",
    "acc7 = accuracy_score(test_y,y_pred7)\n",
    "correct=0 \n",
    "for i in range(len(y_pred7)):\n",
    "    if(test_y[i]==y_pred7[i]):\n",
    "        correct +=1\n",
    "print('Predicted correctly:{0}/{1}'.format(correct,len(y_pred7)))\n",
    "print('Error {0:.4f}'.format(1-acc7))\n",
    "print(mean_absolute_error(test_y, y_pred7))\n",
    "print(r2_score(test_y, y_pred7))\n",
    "acc_sgd = round(accuracy_score(y_pred7, test_y) * 100, 2)\n",
    "print(acc_sgd)"
   ]
  },
  {
   "cell_type": "code",
   "execution_count": 14,
   "metadata": {},
   "outputs": [
    {
     "name": "stderr",
     "output_type": "stream",
     "text": [
      "C:\\Users\\Admin\\Anaconda3\\lib\\site-packages\\ipykernel_launcher.py:2: DeprecationWarning: numpy.core.umath_tests is an internal NumPy module and should not be imported. It will be removed in a future NumPy release.\n",
      "  \n"
     ]
    },
    {
     "name": "stdout",
     "output_type": "stream",
     "text": [
      "Predicted correctly:349/360\n",
      "Error 0.0306\n",
      "0.08611111111111111\n",
      "0.9542990833486924\n",
      "96.94\n"
     ]
    }
   ],
   "source": [
    "# Gradient Boosting Classifier\n",
    "from numpy.core.umath_tests import inner1d\n",
    "from sklearn.ensemble import GradientBoostingClassifier\n",
    "from sklearn.metrics import accuracy_score,mean_absolute_error,r2_score\n",
    "gbc = GradientBoostingClassifier()\n",
    "gbc.fit(train_x, train_y)\n",
    "y_pred8 = gbc.predict(test_x)\n",
    "acc8 = accuracy_score(test_y,y_pred8)\n",
    "correct=0 \n",
    "for i in range(len(y_pred8)):\n",
    "    if(test_y[i]==y_pred8[i]):\n",
    "        correct +=1\n",
    "print('Predicted correctly:{0}/{1}'.format(correct,len(y_pred8)))\n",
    "print('Error {0:.4f}'.format(1-acc8))\n",
    "print(mean_absolute_error(test_y, y_pred8))\n",
    "print(r2_score(test_y, y_pred8))\n",
    "acc_gbc = round(accuracy_score(y_pred8, test_y) * 100, 2)\n",
    "print(acc_gbc)"
   ]
  },
  {
   "cell_type": "code",
   "execution_count": 15,
   "metadata": {},
   "outputs": [
    {
     "name": "stdout",
     "output_type": "stream",
     "text": [
      "Predicted correctly:320/360\n",
      "Error 0.1111\n",
      "0.4388888888888889\n",
      "0.7149616902192516\n",
      "88.89\n"
     ]
    },
    {
     "name": "stderr",
     "output_type": "stream",
     "text": [
      "C:\\Users\\Admin\\Anaconda3\\lib\\site-packages\\sklearn\\preprocessing\\label.py:151: DeprecationWarning: The truth value of an empty array is ambiguous. Returning False, but in future this will result in an error. Use `array.size > 0` to check that an array is not empty.\n",
      "  if diff:\n"
     ]
    }
   ],
   "source": [
    "#XGBoost\n",
    "from xgboost.sklearn import XGBClassifier\n",
    "from sklearn.metrics import accuracy_score,mean_absolute_error,r2_score\n",
    "params ={'objective':'binary:logistic','max_depth':2,'learning_rate':0.3,'silent':1,'colsample_bytree':0.6,'subsample':0.7,'n_estimators':5}\n",
    "bst=XGBClassifier(**params).fit(train_x,train_y)\n",
    "y_pred9 = bst.predict(test_x)\n",
    "acc9 = accuracy_score(test_y,y_pred9)\n",
    "correct=0 \n",
    "for i in range(len(y_pred9)):\n",
    "    if(test_y[i]==y_pred9[i]):\n",
    "        correct +=1\n",
    "print('Predicted correctly:{0}/{1}'.format(correct,len(y_pred9)))\n",
    "print('Error {0:.4f}'.format(1-acc9))\n",
    "print(mean_absolute_error(test_y, y_pred9))\n",
    "print(r2_score(test_y, y_pred9))\n",
    "acc_xgb = round(accuracy_score(y_pred9, test_y) * 100, 2)\n",
    "print(acc_xgb)"
   ]
  },
  {
   "cell_type": "code",
   "execution_count": 16,
   "metadata": {},
   "outputs": [
    {
     "name": "stdout",
     "output_type": "stream",
     "text": [
      "Predicted correctly:357/360\n",
      "Error 0.0083\n",
      "0.044444444444444446\n",
      "0.965470418530123\n",
      "99.17\n"
     ]
    }
   ],
   "source": [
    "# Random Forest\n",
    "from numpy.core.umath_tests import inner1d\n",
    "from sklearn.ensemble import RandomForestClassifier\n",
    "from sklearn.metrics import accuracy_score\n",
    "from sklearn.metrics import r2_score,mean_absolute_error\n",
    "randomforest = RandomForestClassifier(n_estimators=200)\n",
    "randomforest.fit(train_x, train_y)\n",
    "y_pred10 = randomforest.predict(test_x)\n",
    "acc10 = accuracy_score(test_y,y_pred10)\n",
    "correct=0 \n",
    "for i in range(len(y_pred10)):\n",
    "    if(test_y[i]==y_pred10[i]):\n",
    "        correct +=1\n",
    "print('Predicted correctly:{0}/{1}'.format(correct,len(y_pred10)))\n",
    "print('Error {0:.4f}'.format(1-acc10))\n",
    "print(mean_absolute_error(test_y, y_pred10))\n",
    "print(r2_score(test_y, y_pred10))\n",
    "acc_randomforest = round(accuracy_score(test_y, y_pred10) * 100, 2)\n",
    "print(acc_randomforest)"
   ]
  },
  {
   "cell_type": "code",
   "execution_count": 33,
   "metadata": {},
   "outputs": [
    {
     "data": {
      "text/html": [
       "<div>\n",
       "<style scoped>\n",
       "    .dataframe tbody tr th:only-of-type {\n",
       "        vertical-align: middle;\n",
       "    }\n",
       "\n",
       "    .dataframe tbody tr th {\n",
       "        vertical-align: top;\n",
       "    }\n",
       "\n",
       "    .dataframe thead th {\n",
       "        text-align: right;\n",
       "    }\n",
       "</style>\n",
       "<table border=\"1\" class=\"dataframe\">\n",
       "  <thead>\n",
       "    <tr style=\"text-align: right;\">\n",
       "      <th></th>\n",
       "      <th>Models</th>\n",
       "      <th>Scores</th>\n",
       "    </tr>\n",
       "  </thead>\n",
       "  <tbody>\n",
       "    <tr>\n",
       "      <th>0</th>\n",
       "      <td>KNN</td>\n",
       "      <td>99.17</td>\n",
       "    </tr>\n",
       "    <tr>\n",
       "      <th>9</th>\n",
       "      <td>Random Forest</td>\n",
       "      <td>99.17</td>\n",
       "    </tr>\n",
       "    <tr>\n",
       "      <th>4</th>\n",
       "      <td>Logistic Regression</td>\n",
       "      <td>97.50</td>\n",
       "    </tr>\n",
       "    <tr>\n",
       "      <th>2</th>\n",
       "      <td>Linear SVC</td>\n",
       "      <td>96.94</td>\n",
       "    </tr>\n",
       "    <tr>\n",
       "      <th>7</th>\n",
       "      <td>Gradient Boosting Classifier</td>\n",
       "      <td>96.94</td>\n",
       "    </tr>\n",
       "    <tr>\n",
       "      <th>6</th>\n",
       "      <td>Stochastic Gradient Descent</td>\n",
       "      <td>93.61</td>\n",
       "    </tr>\n",
       "    <tr>\n",
       "      <th>8</th>\n",
       "      <td>XGBoost</td>\n",
       "      <td>88.89</td>\n",
       "    </tr>\n",
       "    <tr>\n",
       "      <th>5</th>\n",
       "      <td>Decision Tree</td>\n",
       "      <td>88.33</td>\n",
       "    </tr>\n",
       "    <tr>\n",
       "      <th>1</th>\n",
       "      <td>Naive Bayes</td>\n",
       "      <td>85.56</td>\n",
       "    </tr>\n",
       "    <tr>\n",
       "      <th>3</th>\n",
       "      <td>Support Vector Machines</td>\n",
       "      <td>63.33</td>\n",
       "    </tr>\n",
       "  </tbody>\n",
       "</table>\n",
       "</div>"
      ],
      "text/plain": [
       "                         Models  Scores\n",
       "0                           KNN   99.17\n",
       "9                 Random Forest   99.17\n",
       "4           Logistic Regression   97.50\n",
       "2                    Linear SVC   96.94\n",
       "7  Gradient Boosting Classifier   96.94\n",
       "6   Stochastic Gradient Descent   93.61\n",
       "8                       XGBoost   88.89\n",
       "5                 Decision Tree   88.33\n",
       "1                   Naive Bayes   85.56\n",
       "3       Support Vector Machines   63.33"
      ]
     },
     "execution_count": 33,
     "metadata": {},
     "output_type": "execute_result"
    }
   ],
   "source": [
    "# Comparing accuracies of each models\n",
    "import numpy as np\n",
    "import pandas as pd\n",
    "models = pd.DataFrame({\n",
    "    'Models': ['KNN','Naive Bayes','Linear SVC','Support Vector Machines', 'Logistic Regression', \n",
    "              'Decision Tree','Stochastic Gradient Descent','Gradient Boosting Classifier','XGBoost',\n",
    "              'Random Forest'],\n",
    "    'Scores': [acc_knn,acc_gaussian,acc_linear_svc,acc_svm, acc_logreg, acc_decisiontree,\n",
    "              acc_sgd, acc_gbc ,acc_xgb,acc_randomforest]\n",
    "                    })\n",
    "models.sort_values(by='Scores', ascending=False)"
   ]
  },
  {
   "cell_type": "code",
   "execution_count": null,
   "metadata": {},
   "outputs": [],
   "source": []
  }
 ],
 "metadata": {
  "kernelspec": {
   "display_name": "Python 3",
   "language": "python",
   "name": "python3"
  },
  "language_info": {
   "codemirror_mode": {
    "name": "ipython",
    "version": 3
   },
   "file_extension": ".py",
   "mimetype": "text/x-python",
   "name": "python",
   "nbconvert_exporter": "python",
   "pygments_lexer": "ipython3",
   "version": "3.7.0"
  }
 },
 "nbformat": 4,
 "nbformat_minor": 2
}
